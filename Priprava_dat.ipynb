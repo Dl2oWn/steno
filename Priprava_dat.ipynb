{
 "cells": [
  {
   "cell_type": "markdown",
   "metadata": {},
   "source": [
    "# Stenoprotokoly - příprava dat\n",
    "Web poslanecké sněmovny má velký archív stenoprotokolů, můžete si třeba pročíst, jak se probíraly záležitosti [v roce 1920](http://www.psp.cz/eknih/1920ns/index.htm). Nás bude zajímat současná sněmovna, k níž stena [najdeme tadyk](http://www.psp.cz/eknih/2013ps/stenprot/index.htm). Naštěstí nemusíme data stahovat přímo v tomto formátu, PSP nabízí i zazipovaný archív, [konkrétně tady](http://www.psp.cz/eknih/2013ps/stenprot/zip/index.htm).\n",
    "\n",
    "Probíhat to bude asi takto: stáhneme zipy, rozbalíme, rozparsujeme do jsonů, nasypeme do skladiště dle libosti. Bude třeba Python 3 a pár balíků. Většina ve standardní knihovně, mimo ní používám akorat PyQuery.\n",
    "\n",
    "Je třeba dodělat:\n",
    "- datum projevu\n",
    "- přidat více Sněmoven\n",
    "- rozparsovat jméno řečníka"
   ]
  },
  {
   "cell_type": "code",
   "execution_count": 1,
   "metadata": {
    "collapsed": false
   },
   "outputs": [],
   "source": [
    "import urllib.request as ur\n",
    "import urllib.parse as up\n",
    "from pyquery import PyQuery as pq\n",
    "import os.path\n",
    "import zipfile\n",
    "import glob\n",
    "from collections import OrderedDict\n",
    "import json"
   ]
  },
  {
   "cell_type": "code",
   "execution_count": 2,
   "metadata": {
    "collapsed": true
   },
   "outputs": [],
   "source": [
    "base = 'http://www.psp.cz/eknih/2013ps/stenprot/zip/index.htm'\n",
    "zp = './zip/'\n",
    "st = './html/'"
   ]
  },
  {
   "cell_type": "markdown",
   "metadata": {},
   "source": [
    "Stenoprotokoly jsou zazipované, ale jsou stále ve spousta balících. Stáhneme tedy stránku, na které jsou, projdeme odkazy na zipy a stáhneme ty."
   ]
  },
  {
   "cell_type": "code",
   "execution_count": 3,
   "metadata": {
    "collapsed": false
   },
   "outputs": [],
   "source": [
    "ht = pq(base)"
   ]
  },
  {
   "cell_type": "code",
   "execution_count": 4,
   "metadata": {
    "collapsed": false
   },
   "outputs": [],
   "source": [
    "if not os.path.exists('zip'): os.mkdir('zip')\n",
    "for ln in ht.find('div#main-content a'):\n",
    "    ur.urlretrieve(up.urljoin(base, ln.attrib['href']), os.path.join(zp, ln.attrib['href']))"
   ]
  },
  {
   "cell_type": "markdown",
   "metadata": {},
   "source": [
    "Rozbalíme (šlo by číst přímo z archivů, ale proč si to komplikovat, když to místa zabírá málo)"
   ]
  },
  {
   "cell_type": "code",
   "execution_count": 5,
   "metadata": {
    "collapsed": false
   },
   "outputs": [],
   "source": [
    "if not os.path.exists('html'): os.mkdir('html')\n",
    "\n",
    "fns = glob.glob(os.path.join(zp, '*.zip'))\n",
    "\n",
    "for fn in fns:\n",
    "    zfn = os.path.split(fn)\n",
    "    zfn = zfn[-1].replace('.zip', '')\n",
    "    pth = os.path.join(st, zfn)\n",
    "    if not os.path.exists(pth): os.mkdir(pth)\n",
    "\n",
    "    with zipfile.ZipFile(fn) as zf:\n",
    "        zf.extractall(pth)"
   ]
  },
  {
   "cell_type": "markdown",
   "metadata": {},
   "source": [
    "Převedeme do textu. Není tu moc rocket science, vesměs jde o:\n",
    "\n",
    "- Každý odstavec je buďto pokračování projevu, nebo začátek nového.\n",
    "- Začátek projevu poznáme tak, že začíná odkazem na profil řečníka. Hledat odkaz v textu je ale celkem riskantní, protože některé projevy (zvlášť v minulé Sněmovně) obsahovaly odkazy na hlasování. Tohle bude třeba ještě nějak ošetřit.\n",
    "- Proslovy mohou přetékat mezi soubory. Na začátku souboru je tak třeba zjistit, zda jde o pokračování, nebo ne. Já to řeším tak, že konce souborů neřeším, celá jedna schůze je pro mě tok textu, bez ohledu na rozdělení mezi soubory.\n",
    "- Jména řečníků jsou vč. jejich funkcí. To je nepříjemné ze dvou důvodů: jméno je moc dlouhé, zvlášť u facetování (filtrace v hledání), ale hlavně protože jméno pak není unikátní, protože funkce se mění, zvlášť mezi sněmovnami. Když pak budeme chtít seskupit spoustu let dohromady, budeme mít např. Bohuslava Sobotku jako ministra financí, poslance a premiéra. Bohužel rozdělení jména na funkce a vlastní jméno není úplně jednoznačné, bude to chtít vypsat počet variací a ošetřit to. Časem."
   ]
  },
  {
   "cell_type": "code",
   "execution_count": 9,
   "metadata": {
    "collapsed": false
   },
   "outputs": [],
   "source": [
    "jsp = 'json/'\n",
    "if not os.path.exists(jsp): os.mkdir(jsp)\n",
    "schuze = glob.glob('./html/*')"
   ]
  },
  {
   "cell_type": "code",
   "execution_count": 7,
   "metadata": {
    "collapsed": true
   },
   "outputs": [],
   "source": [
    "# nepouziva se, prozatim\n",
    "def depozicuj(nm):\n",
    "    \"\"\"Neumí to ostatní ministry a senátory, ale pro začátek stačí\"\"\"\n",
    "    poz = 'Poslanec, Poslankyně, PSP, ministr financí, ministr průmyslu a obchodu ČR, \\\n",
    "Předseda vlády ČR'.split(', ')\n",
    "    for p in poz:\n",
    "        if p in nm:\n",
    "            nm = nm[nm.find(p) + len(p) + 1:]\n",
    "    return nm"
   ]
  },
  {
   "cell_type": "code",
   "execution_count": 10,
   "metadata": {
    "collapsed": false
   },
   "outputs": [],
   "source": [
    "def zapisuj(nm, dt):\n",
    "    fn = os.path.join(jsp, '%s.json' % nm)\n",
    "    \n",
    "    with open(fn, 'w') as f:\n",
    "        t = json.dump(dt, f, ensure_ascii=False, indent=2)\n",
    "\n",
    "res = []\n",
    "pid = 0\n",
    "aut = None\n",
    "tema = None\n",
    "buf = []\n",
    "for sch in schuze:\n",
    "    schd = []\n",
    "    fns = glob.glob(os.path.join(sch, 's*.htm'))\n",
    "    for fn in fns:\n",
    "        h = pq(open(fn, encoding='cp1250').read())\n",
    "        for p in h.find('p'):\n",
    "            pt = p.text_content().strip()\n",
    "            if len(pt) == 0: continue\n",
    "            pt = pt.replace('\\xa0', ' ')\n",
    "            \n",
    "            od = p.find('a') # v textu je odkaz\n",
    "            if od == None:\n",
    "                buf += [pt]\n",
    "                continue\n",
    "            \n",
    "            if len(buf) > 0:\n",
    "                schd.extend([OrderedDict(id=pid, autor=aut, schuze=int(sch.split('/')[-1][:3]),\\\n",
    "                                         fn=fn, tema=tema, text='\\n'.join(buf))])\n",
    "            # aut = depozicuj(od.text) # TODO: uloz pozici jako zvlast field (takze returnuj tuple)\n",
    "            aut = od.text\n",
    "            buf = [pt[len(od.text)+2:]] # pridame soucasny text (ale odseknem autora)\n",
    "            pid += 1\n",
    "    zapisuj(sch[-sch[::-1].find('/'):], schd)\n",
    "            "
   ]
  },
  {
   "cell_type": "markdown",
   "metadata": {
    "collapsed": true
   },
   "source": [
    "Tak, hotovo. Můžeme sypat do hledače."
   ]
  },
  {
   "cell_type": "code",
   "execution_count": null,
   "metadata": {
    "collapsed": true
   },
   "outputs": [],
   "source": []
  }
 ],
 "metadata": {
  "kernelspec": {
   "display_name": "Python 3",
   "language": "python",
   "name": "python3"
  },
  "language_info": {
   "codemirror_mode": {
    "name": "ipython",
    "version": 3
   },
   "file_extension": ".py",
   "mimetype": "text/x-python",
   "name": "python",
   "nbconvert_exporter": "python",
   "pygments_lexer": "ipython3",
   "version": "3.5.1"
  }
 },
 "nbformat": 4,
 "nbformat_minor": 0
}
